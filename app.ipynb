{
 "cells": [
  {
   "cell_type": "code",
   "execution_count": 58,
   "metadata": {},
   "outputs": [],
   "source": [
    "import spacy"
   ]
  },
  {
   "cell_type": "code",
   "execution_count": 59,
   "metadata": {},
   "outputs": [],
   "source": [
    "text = input()"
   ]
  },
  {
   "cell_type": "code",
   "execution_count": 60,
   "metadata": {},
   "outputs": [],
   "source": [
    "nlp = spacy.load('en_core_web_trf')"
   ]
  },
  {
   "cell_type": "code",
   "execution_count": 61,
   "metadata": {},
   "outputs": [],
   "source": [
    "doc = nlp(text)\n",
    "sentences = list(doc.sents)\n",
    "\n",
    "nouns = []\n",
    "for sentence in sentences:\n",
    "    for token in sentence:\n",
    "        if token.pos_ == 'NOUN' or token.pos_ == 'PROPN':\n",
    "            nouns.append(token)\n",
    "noun_chunks = list(doc.noun_chunks)\n",
    "final_list = noun_chunks+nouns"
   ]
  },
  {
   "cell_type": "code",
   "execution_count": 62,
   "metadata": {},
   "outputs": [],
   "source": [
    "stop_words = nlp.Defaults.stop_words\n",
    "for i in final_list:\n",
    "    if i in stop_words:\n",
    "        final_list.remove(i)"
   ]
  },
  {
   "cell_type": "code",
   "execution_count": 63,
   "metadata": {},
   "outputs": [],
   "source": [
    "str_final_list = []\n",
    "for i in final_list:\n",
    "    i = str(i)\n",
    "    str_final_list.append(i)"
   ]
  },
  {
   "cell_type": "code",
   "execution_count": 64,
   "metadata": {},
   "outputs": [],
   "source": [
    "str_final_list = set(str_final_list)\n",
    "str_final_list = list(str_final_list)"
   ]
  },
  {
   "cell_type": "code",
   "execution_count": 65,
   "metadata": {},
   "outputs": [
    {
     "data": {
      "text/plain": [
       "305"
      ]
     },
     "execution_count": 65,
     "metadata": {},
     "output_type": "execute_result"
    }
   ],
   "source": [
    "import pandas as pd\n",
    "\n",
    "df = pd.read_excel('./data/data_final.xlsx', names=['data'])\n",
    "df.columns.dtype\n",
    "len(df)"
   ]
  },
  {
   "cell_type": "code",
   "execution_count": 66,
   "metadata": {},
   "outputs": [],
   "source": [
    "nlp = spacy.load('en_core_web_lg')"
   ]
  },
  {
   "cell_type": "code",
   "execution_count": 67,
   "metadata": {},
   "outputs": [
    {
     "name": "stdout",
     "output_type": "stream",
     "text": [
      "block mining 0.3716920921056461\n",
      "mining 0.33502778942109224\n",
      "block 0.266299260972818\n"
     ]
    }
   ],
   "source": [
    "for i in str_final_list:\n",
    "    for j in df:\n",
    "        i = nlp(i)\n",
    "        j = nlp(j)\n",
    "        x = i.similarity(j)\n",
    "        print(i,x)\n"
   ]
  }
 ],
 "metadata": {
  "kernelspec": {
   "display_name": "Python 3.9.1 64-bit",
   "language": "python",
   "name": "python3"
  },
  "language_info": {
   "codemirror_mode": {
    "name": "ipython",
    "version": 3
   },
   "file_extension": ".py",
   "mimetype": "text/x-python",
   "name": "python",
   "nbconvert_exporter": "python",
   "pygments_lexer": "ipython3",
   "version": "3.9.1"
  },
  "orig_nbformat": 4,
  "vscode": {
   "interpreter": {
    "hash": "93c3a718b4c6642ce4c45cce76395d725a388a32f575fa81b43fa67ce89bca37"
   }
  }
 },
 "nbformat": 4,
 "nbformat_minor": 2
}
